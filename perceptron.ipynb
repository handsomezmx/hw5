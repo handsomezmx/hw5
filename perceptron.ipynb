{
 "cells": [
  {
   "cell_type": "markdown",
   "metadata": {},
   "source": [
    "## Perceptron"
   ]
  },
  {
   "cell_type": "code",
   "execution_count": null,
   "metadata": {
    "ExecuteTime": {
     "end_time": "2020-02-03T01:34:45.989961Z",
     "start_time": "2020-02-03T01:34:45.560345Z"
    }
   },
   "outputs": [],
   "source": [
    "%config InlineBackend.figure_format = 'retina'\n",
    "import numpy as np\n",
    "import matplotlib.pyplot as plt\n",
    "from sklearn import datasets"
   ]
  },
  {
   "cell_type": "markdown",
   "metadata": {},
   "source": [
    "### Load the modified Iris dataset"
   ]
  },
  {
   "cell_type": "code",
   "execution_count": null,
   "metadata": {
    "ExecuteTime": {
     "end_time": "2020-02-03T01:34:46.999744Z",
     "start_time": "2020-02-03T01:34:46.983186Z"
    }
   },
   "outputs": [],
   "source": [
    "# Iris dataset.\n",
    "iris = datasets.load_iris()     # Load Iris dataset.\n",
    "\n",
    "X = iris.data                   # The shape of X is (150, 4), which means\n",
    "                                # there are 150 data points, each data point\n",
    "                                # has 4 features.\n",
    "\n",
    "# Here for convenience, we divide the 3 kinds of flowers into 2 groups: \n",
    "#     Y = 0 (or False):  Setosa (original value 0) / Versicolor (original value 1)\n",
    "#     Y = 1 (or True):   Virginica (original value 2)\n",
    "\n",
    "# Thus we use (iris.target > 1.5) to divide the targets into 2 groups. \n",
    "# This line of code will assign:\n",
    "#    Y[i] = True  (which is equivalent to 1) if iris.target[k]  > 1.5 (Virginica)\n",
    "#    Y[i] = False (which is equivalent to 0) if iris.target[k] <= 1.5 (Setosa / Versicolor)\n",
    "\n",
    "Y = (iris.target > 1.5).reshape(-1,1).astype(np.float) # The shape of Y is (150, 1), which means \n",
    "                                # there are 150 data points, each data point\n",
    "                                # has 1 target value. \n",
    "Y[Y==0] = -1\n",
    "\n",
    "X_and_Y = np.hstack((X, Y))     # Stack them together for shuffling.\n",
    "np.random.seed(1)               # Set the random seed.\n",
    "np.random.shuffle(X_and_Y)      # Shuffle the data points in X_and_Y array\n",
    "\n",
    "print(X.shape)\n",
    "print(Y.shape)\n",
    "print(X_and_Y[0])               # The result should be always: [ 5.8  4.   1.2  0.2  -1 ]"
   ]
  },
  {
   "cell_type": "code",
   "execution_count": null,
   "metadata": {
    "ExecuteTime": {
     "end_time": "2020-02-03T01:34:47.563449Z",
     "start_time": "2020-02-03T01:34:47.557940Z"
    }
   },
   "outputs": [],
   "source": [
    "# Divide the data points into training set and test set.\n",
    "X_shuffled = X_and_Y[:,:4]\n",
    "Y_shuffled = X_and_Y[:,4]\n",
    "\n",
    "\n",
    "X_train = X_shuffled[:100][:,[3,1]] # Shape: (100,2)\n",
    "X_train = np.delete(X_train, 42, axis=0) # Remove a point for separability.\n",
    "Y_train = Y_shuffled[:100]          # Shape: (100,)\n",
    "Y_train = np.delete(Y_train, 42, axis=0) # Remove a point for separability.\n",
    "X_test = X_shuffled[100:][:,[3,1]]  # Shape: (50,2)\n",
    "Y_test = Y_shuffled[100:]           # Shape: (50,)\n",
    "print(X_train.shape)\n",
    "print(Y_train.shape)\n",
    "print(X_test.shape)\n",
    "print(Y_test.shape)"
   ]
  },
  {
   "cell_type": "markdown",
   "metadata": {},
   "source": [
    "### Visualization"
   ]
  },
  {
   "cell_type": "code",
   "execution_count": null,
   "metadata": {
    "ExecuteTime": {
     "end_time": "2020-02-03T01:34:51.774517Z",
     "start_time": "2020-02-03T01:34:51.759480Z"
    }
   },
   "outputs": [],
   "source": [
    "def vis(X, Y, W=None, b=None):\n",
    "    indices_neg1 = (Y == -1).nonzero()[0]\n",
    "    indices_pos1 = (Y == 1).nonzero()[0]\n",
    "    plt.scatter(X[:,0][indices_neg1], X[:,1][indices_neg1], \n",
    "                c='blue', label='class -1')\n",
    "    plt.scatter(X[:,0][indices_pos1], X[:,1][indices_pos1], \n",
    "                c='red', label='class 1')\n",
    "    plt.legend()\n",
    "    plt.xlabel('$x_0$')\n",
    "    plt.ylabel('$x_1$')\n",
    "    \n",
    "    if W is not None:\n",
    "        # w0x0+w1x1+b=0 => x1=-w0x0/w1-b/w1\n",
    "        w0 = W[0]\n",
    "        w1 = W[1]\n",
    "        temp = -w1*np.array([X[:,1].min(), X[:,1].max()])/w0-b/w0\n",
    "        x0_min = max(temp.min(), X[:,0].min())\n",
    "        x0_max = min(temp.max(), X[:,1].max())\n",
    "        x0 = np.linspace(x0_min,x0_max,100)\n",
    "        x1 = -w0*x0/w1-b/w1\n",
    "        plt.plot(x0,x1,color='black')\n",
    "\n",
    "    plt.show()"
   ]
  },
  {
   "cell_type": "code",
   "execution_count": null,
   "metadata": {
    "ExecuteTime": {
     "end_time": "2020-02-03T01:34:52.914856Z",
     "start_time": "2020-02-03T01:34:52.526287Z"
    }
   },
   "outputs": [],
   "source": [
    "# Visualize training set.\n",
    "vis(X_train, Y_train)"
   ]
  },
  {
   "cell_type": "code",
   "execution_count": null,
   "metadata": {
    "ExecuteTime": {
     "end_time": "2020-02-03T01:34:54.154536Z",
     "start_time": "2020-02-03T01:34:54.013739Z"
    }
   },
   "outputs": [],
   "source": [
    "# Visualize test set.\n",
    "vis(X_test, Y_test)"
   ]
  },
  {
   "cell_type": "markdown",
   "metadata": {},
   "source": [
    "### Perceptron Algorithm"
   ]
  },
  {
   "cell_type": "markdown",
   "metadata": {},
   "source": [
    "In this problem, we would like to train a perceptron model for the classification task on a modified Iris dataset. The training procedure of the perceptron model is shown in the algorithm below:\n",
    "\n",
    "<img src=\"perceptron-algorithm.png\" width=600 align=\"left\">"
   ]
  },
  {
   "cell_type": "markdown",
   "metadata": {},
   "source": [
    "Note that in the code, we use `X_train` and `Y_train` to represent the feature vector $X$ and labels $Y$ in training set $S_\\text{training}$. Besides, we use `W` and `b` to represent the weight vector $\\mathbf{w}$ and bias scalar $b$."
   ]
  },
  {
   "cell_type": "markdown",
   "metadata": {},
   "source": [
    "Please fill the blanks of the skeleton code below to complete the perceptron training procedure.\n",
    "\n",
    "**Hint**: For the implementation of some functions, you may refer to HW2 Q5."
   ]
  },
  {
   "cell_type": "code",
   "execution_count": null,
   "metadata": {
    "ExecuteTime": {
     "end_time": "2020-02-03T01:34:57.707574Z",
     "start_time": "2020-02-03T01:34:57.701622Z"
    }
   },
   "outputs": [],
   "source": [
    "# Judge function: 1(a != b).\n",
    "def judge(a, b):\n",
    "    ####### To be filled #######\n",
    "    \n",
    "# Perceptron classifier.\n",
    "def f_perceptron(x, W, b):\n",
    "    # x should be a 2-dimensional vector, \n",
    "    # W should be a 2-dimensional vector,\n",
    "    # b should be a scalar.\n",
    "    # you should return a scalar which is -1 or 1.\n",
    "    return ####### To be filled #######\n",
    "    \n",
    "# Calculate error given feature vectors X and labels Y.\n",
    "def calc_error(X, Y, W, b):\n",
    "    ############ To be filled. ############\n",
    "    \n",
    "    for (xi, yi) in zip(X, Y):\n",
    "        ############ To be filled. ############\n",
    "        # Hint: Use judge() and f_perceptron()\n",
    "    \n",
    "    ############ To be filled. ############\n",
    "    return ############ To be filled. ############"
   ]
  },
  {
   "cell_type": "code",
   "execution_count": null,
   "metadata": {
    "ExecuteTime": {
     "end_time": "2020-02-03T01:34:58.556405Z",
     "start_time": "2020-02-03T01:34:58.493926Z"
    },
    "scrolled": false
   },
   "outputs": [],
   "source": [
    "# Some settings.\n",
    "errors = []           # Error history.\n",
    "lam    = 1            # Lambda which controls the step size.\n",
    "\n",
    "# Initialization.\n",
    "W      = np.zeros(2)  # Weight.\n",
    "b      = 0.0          # Bias.\n",
    "\n",
    "# Perceptron learning algorithm.\n",
    "while calc_error(X_train, Y_train, W, b) > 0:\n",
    "    for xi, yi in zip(X_train, Y_train):   # Iterate over all data points.\n",
    "        ####### To be filled #######       # Compute the model prediction.\n",
    "        if ####### To be filled #######    # Compare prediction and label.\n",
    "            continue                       # - If correct, continue.\n",
    "        else:\n",
    "            ####### To be filled #######   # - If not, update weight and bias.\n",
    "            ####### To be filled ####### \n",
    "            \n",
    "    # Track training errors. \n",
    "    errors.append(calc_error(X_train, Y_train, W, b))"
   ]
  },
  {
   "cell_type": "markdown",
   "metadata": {},
   "source": [
    "#### Visualize the results"
   ]
  },
  {
   "cell_type": "code",
   "execution_count": null,
   "metadata": {
    "ExecuteTime": {
     "end_time": "2020-02-03T01:35:00.156991Z",
     "start_time": "2020-02-03T01:34:59.783572Z"
    }
   },
   "outputs": [],
   "source": [
    "# Show decision boundary, training error and test error.\n",
    "print('Decision boundary: {:.3f}x0+{:.3f}x1+{:.3f}=0'.format(W[0],W[1],b))\n",
    "vis(X_train, Y_train, W, b)\n",
    "print('Training error: {}'.format(calc_error(X_train, Y_train, W, b)))\n",
    "vis(X_test, Y_test, W, b)\n",
    "print('Test error: {}'.format(calc_error(X_test, Y_test, W, b)))"
   ]
  },
  {
   "cell_type": "code",
   "execution_count": null,
   "metadata": {
    "ExecuteTime": {
     "end_time": "2020-02-03T01:35:01.127966Z",
     "start_time": "2020-02-03T01:35:00.909618Z"
    }
   },
   "outputs": [],
   "source": [
    "# Plot training error curve.\n",
    "plt.title('Training error curve')\n",
    "plt.plot(errors)\n",
    "plt.xlabel('iteration')\n",
    "plt.ylabel('error')\n",
    "plt.show()"
   ]
  }
 ],
 "metadata": {
  "kernelspec": {
   "display_name": "Python 3",
   "language": "python",
   "name": "python3"
  },
  "language_info": {
   "codemirror_mode": {
    "name": "ipython",
    "version": 3
   },
   "file_extension": ".py",
   "mimetype": "text/x-python",
   "name": "python",
   "nbconvert_exporter": "python",
   "pygments_lexer": "ipython3",
   "version": "3.8.5"
  },
  "toc": {
   "base_numbering": 1,
   "nav_menu": {},
   "number_sections": true,
   "sideBar": true,
   "skip_h1_title": false,
   "title_cell": "Table of Contents",
   "title_sidebar": "Contents",
   "toc_cell": false,
   "toc_position": {},
   "toc_section_display": true,
   "toc_window_display": false
  }
 },
 "nbformat": 4,
 "nbformat_minor": 2
}
